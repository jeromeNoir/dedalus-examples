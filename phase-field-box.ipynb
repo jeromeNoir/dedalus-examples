{
 "cells": [
  {
   "cell_type": "markdown",
   "id": "fca6fcae-0d1b-4958-bf26-18a4d34d658b",
   "metadata": {},
   "source": [
    "# Melting and dissolving solids in buoyant fluid flows"
   ]
  },
  {
   "cell_type": "markdown",
   "id": "e8e4cdf7-6d44-40ce-bfda-12e46d66c192",
   "metadata": {},
   "source": [
    "This notebook demonstrates use of a second-order accurate phase field model for the melting and dissolution of solids in buoyant fluids.\n",
    "The mathematics are developed in the paper by [Hester et al. (2020)](https://doi.org/10.1098/rspa.2020.0508), and the numerical implementation is done in version 3 of the [Dedalus code](https://doi.org/10.1098/rspa.2020.05080) adapted from an original code (courtesy of Eric Hester)."
   ]
  },
  {
   "cell_type": "code",
   "execution_count": null,
   "id": "f1911a5b-feba-4b67-826c-6d3949ac96ce",
   "metadata": {},
   "outputs": [],
   "source": [
    "import numpy as np\n",
    "import dedalus.public as d3\n",
    "import logging\n",
    "logger = logging.getLogger(__name__)\n",
    "import matplotlib.pyplot as plt\n",
    "import time"
   ]
  },
  {
   "cell_type": "code",
   "execution_count": null,
   "id": "97ffcac2-5063-49f3-9562-ad4887d21038",
   "metadata": {},
   "outputs": [],
   "source": [
    "# Model parameters\n",
    "Lx, Lz = 4, 2 # domain size\n",
    "ν = 1e-2 # kinematic viscosity\n",
    "κ = ν # thermal diffusivity\n",
    "μ = ν # salt diffusivity\n",
    "ϵ = 1e-2 # phase-field interface thickness\n",
    "γ = 1e-2 # damping rate\n",
    "L = 1 # Stefan number (latent heat)\n",
    "β = 1.51044385 # Optimal damping proportionality, may underestimate at large ε\n",
    "m = 0 # salinity induced melting temperature change\n",
    "n = 1 # temperature-salinity buoyancy ratio\n",
    "δ = 1e-2 # concentration forcing regularisation"
   ]
  },
  {
   "cell_type": "code",
   "execution_count": null,
   "id": "169d3f25-bb85-41b5-8483-3c7fce56782c",
   "metadata": {},
   "outputs": [],
   "source": [
    "# Numerical parameters\n",
    "Nx, Nz = 256, 256\n",
    "dealias = 3/2\n",
    "stop_sim_time = 1\n",
    "timestepper = d3.RK222\n",
    "max_timestep = 0.125\n",
    "dtype = np.float64"
   ]
  },
  {
   "cell_type": "code",
   "execution_count": null,
   "id": "4689d5db-7f28-4a27-81b9-c2b195970f46",
   "metadata": {},
   "outputs": [],
   "source": [
    "# Coordinates, Bases\n",
    "coords = d3.CartesianCoordinates('x', 'z')\n",
    "dist = d3.Distributor(coords, dtype=dtype)\n",
    "xbasis = d3.RealFourier(coords['x'], size=Nx, bounds=(0, Lx), dealias=dealias)\n",
    "zbasis = d3.ChebyshevT(coords['z'], size=Nz, bounds=(0, Lz), dealias=dealias)\n",
    "x, z = dist.local_grids(xbasis, zbasis)\n",
    "ex, ez = coords.unit_vector_fields(dist)\n"
   ]
  },
  {
   "cell_type": "code",
   "execution_count": null,
   "id": "1d5e27da-030f-436d-abf2-76cd070e9d03",
   "metadata": {},
   "outputs": [],
   "source": [
    "# Fields\n",
    "p = dist.Field(name='p', bases=(xbasis,zbasis))\n",
    "T = dist.Field(name='T', bases=(xbasis,zbasis))\n",
    "C = dist.Field(name='C', bases=(xbasis,zbasis))\n",
    "f = dist.Field(name='f', bases=(xbasis,zbasis))\n",
    "ft = dist.Field(name='ft', bases=(xbasis,zbasis))\n",
    "u = dist.VectorField(coords, name='u', bases=(xbasis,zbasis))\n",
    "\n",
    "tau_p = dist.Field(name='tau_p')\n",
    "tau_T1 = dist.Field(name='tau_T1', bases=xbasis)\n",
    "tau_T2 = dist.Field(name='tau_T2', bases=xbasis)\n",
    "tau_C1 = dist.Field(name='tau_C1', bases=xbasis)\n",
    "tau_C2 = dist.Field(name='tau_C2', bases=xbasis)\n",
    "tau_f1 = dist.Field(name='tau_f1', bases=xbasis)\n",
    "tau_f2 = dist.Field(name='tau_f2', bases=xbasis)\n",
    "tau_u1 = dist.VectorField(coords, name='tau_u1', bases=xbasis)\n",
    "tau_u2 = dist.VectorField(coords, name='tau_u2', bases=xbasis)\n",
    "\n",
    "# Substitutions\n",
    "lift_basis = zbasis.derivative_basis(1)\n",
    "lift = lambda A: d3.Lift(A, lift_basis, -1)\n",
    "dz = lambda A: d3.Differentiate(A,coords['z'])\n",
    "\n",
    "tau_div_eq = ez@lift(tau_u1) + tau_p\n",
    "tau_temp_eq = -κ*dz(lift(tau_T1)) + lift(tau_T2)\n",
    "tau_conc_eq = -μ*dz(lift(tau_C1)) + lift(tau_C2)\n",
    "tau_phas_eq = -γ*dz(lift(tau_f1)) + lift(tau_f2)\n",
    "tau_mom_eq  = -ν*dz(lift(tau_u1)) + lift(tau_u2)"
   ]
  },
  {
   "cell_type": "code",
   "execution_count": null,
   "id": "02203a24-9e47-4f7a-8f75-e78b75fb45b2",
   "metadata": {},
   "outputs": [],
   "source": [
    "# Volume penalty walls\n",
    "mask = lambda x : 0.5*(1 + np.tanh(x/(2*ϵ)))\n",
    "wall = dist.Field(name='wall', bases=(xbasis,zbasis))\n",
    "wall['g'] = mask(-(x-Lx/20)) + mask(x-Lx*(1-1/20))"
   ]
  },
  {
   "cell_type": "code",
   "execution_count": null,
   "id": "da11d77c-a3f5-4a74-8393-fdec1b84a32b",
   "metadata": {},
   "outputs": [],
   "source": [
    "# integral quantities\n",
    "momentum = d3.integ(u)\n",
    "heat = d3.integ(T) - L*d3.integ(f)\n",
    "salt = d3.integ((1-f)*(1-wall)*C)\n",
    "\n",
    "# boundary quantities\n",
    "heat_flux = dz(T)(z=Lz) - dz(T)(z=0)"
   ]
  },
  {
   "cell_type": "code",
   "execution_count": null,
   "id": "4024526a-7ced-4969-ba4f-723a285b4c4e",
   "metadata": {},
   "outputs": [],
   "source": [
    "# # simpler reformulation of the tau terms\n",
    "# (d3.trace(ez*lift(tau_u1)) - ez@lift(tau_u1)).evaluate()['g'].max() # .6 faster\n",
    "# (d3.div(ez*lift(tau_T1)) - dz(lift(tau_T1))).evaluate()['g'].max() # 2.6/7.3 ~ .35 faster"
   ]
  },
  {
   "cell_type": "code",
   "execution_count": null,
   "id": "d925cd7c-9daa-4f76-833e-f371cf80542a",
   "metadata": {},
   "outputs": [],
   "source": [
    "# Problem\n",
    "problem = d3.IVP([p, u, T, f, ft, C, \n",
    "                  tau_p, tau_T1, tau_T2, tau_f1, tau_f2, tau_C1, tau_C2, \n",
    "                  tau_u1, tau_u2, \n",
    "                  ], namespace=locals())\n",
    "\n",
    "problem.add_equation(\"dt(f) - ft = 0\")\n",
    "problem.add_equation(\"div(u) + tau_div_eq = 0\")\n",
    "problem.add_equation(\"dt(T) - κ*div(grad(T)) - L*dt(f)              + tau_temp_eq = - (1-f)*u@grad(T) + T*u@grad(f)\")\n",
    "problem.add_equation(\"dt(C) - μ*div(grad(C))                        + tau_conc_eq = - u@grad(C) + (C*ft - μ*grad(f)@grad(C))/(1-f+δ) + (1-f)*μ*grad(wall)@grad(C)/(1-wall+δ)\")\n",
    "problem.add_equation(\"(5/6)*(L/κ)*dt(f) - (γ/ε)*div(grad(f))        + tau_phas_eq = -(1/ϵ**2)*f*(1-f)*((γ/ε)*(1-2*f) + (T+m*C))\")\n",
    "problem.add_equation(\"dt(u) - ν*div(grad(u)) + grad(p) - (T-n*C)*ez + tau_mom_eq  = - u@grad(u) - (ν/(β*ϵ)**2)*(f+wall)*u\")\n",
    "\n",
    "problem.add_equation(\"T(z=Lz) = 0\")\n",
    "problem.add_equation(\"dz(C)(z=Lz) = 0\")\n",
    "problem.add_equation(\"u(z=Lz) = 0\")\n",
    "problem.add_equation(\"f(z=Lz) = 1\")\n",
    "problem.add_equation(\"integ(p) = 0\") # Pressure gauge\n",
    "problem.add_equation(\"T(z=0) = 1\")\n",
    "problem.add_equation(\"dz(C)(z=0) = 0\")\n",
    "problem.add_equation(\"u(z=0) = 0\")\n",
    "problem.add_equation(\"f(z=0) = 0\")"
   ]
  },
  {
   "cell_type": "code",
   "execution_count": null,
   "id": "b1f3ed01-dd85-4fe4-a0fa-cdfe097bc7cb",
   "metadata": {},
   "outputs": [],
   "source": [
    "# Solver\n",
    "solver = problem.build_solver(timestepper)\n",
    "solver.stop_sim_time = stop_sim_time"
   ]
  },
  {
   "cell_type": "code",
   "execution_count": null,
   "id": "3a2a26fd-4ef0-417d-a333-c4a19c55f3db",
   "metadata": {},
   "outputs": [],
   "source": [
    "f.change_scales(1)\n",
    "f['g'] = mask(z-Lz/2)\n",
    "xx, zz = x+0*z, 0*x+z\n",
    "\n",
    "u.change_scales(1)\n",
    "u['g'] = 0\n",
    "# u['g'] = (ex['g']*(1-f['g'])*z*(Lz/2-z))\n",
    "# u['g'][0][zz>Lz/2] = 0\n",
    "\n",
    "# Initial conditions\n",
    "T.change_scales(1)\n",
    "# T.fill_random('g', seed=42, distribution='normal', scale=2e-2) # Random noise\n",
    "# T['g'] += 1 - 2*z/Lz\n",
    "T['g'] = (1-f['g'])*(1-z/Lz)\n",
    "T['g'] += .5*np.sin(2*np.pi*x/Lx)*(1-f['g'])\n",
    "\n",
    "C.change_scales(1)\n",
    "C['g'] = .5 +.1*np.sin(2*np.pi*x/Lx) ##.9*(1-.5*z/Lz)"
   ]
  },
  {
   "cell_type": "code",
   "execution_count": null,
   "id": "2704371f-0f3f-4237-9624-86325284907b",
   "metadata": {},
   "outputs": [],
   "source": [
    "# Analysis\n",
    "snapshots = solver.evaluator.add_file_handler('snapshots', sim_dt=0.25, max_writes=50)\n",
    "snapshots.add_tasks(solver.state)\n",
    "snapshots.add_task(momentum,name='momentum')\n",
    "snapshots.add_task(heat,name='heat')\n",
    "snapshots.add_task(salt,name='salt')\n",
    "snapshots.add_task(heat_flux,name='heat_flux')\n",
    "snapshots.add_task(-d3.div(d3.skew(u)), name='vorticity')"
   ]
  },
  {
   "cell_type": "code",
   "execution_count": null,
   "id": "8c8b85e9-681c-4551-afcd-a52c0db903bd",
   "metadata": {},
   "outputs": [],
   "source": [
    "# # CFL\n",
    "# CFL = d3.CFL(solver, initial_dt=max_timestep, cadence=10, safety=0.5, threshold=0.05,\n",
    "#              max_change=1.5, min_change=0.5, max_dt=max_timestep)\n",
    "# CFL.add_velocity(u)\n",
    "\n",
    "# # Flow properties\n",
    "# flow = d3.GlobalFlowProperty(solver, cadence=10)\n",
    "# flow.add_property(np.sqrt(u@u)/ν, name='Re')\n",
    "# flow.add_property(f, name='phase')"
   ]
  },
  {
   "cell_type": "code",
   "execution_count": null,
   "id": "4998d62e-fd4d-405c-8b67-abc692e7cc8a",
   "metadata": {},
   "outputs": [],
   "source": [
    "T.change_scales(1)\n",
    "C.change_scales(1)\n",
    "f.change_scales(1)\n",
    "u.change_scales(1)\n",
    "fig, ax = plt.subplots(2,2)\n",
    "ps = {}\n",
    "ps[0,0] = ax[0,0].pcolormesh(xx, zz, T['g'], cmap='RdBu_r')\n",
    "ps[1,0] = ax[1,0].pcolormesh(xx, zz, C['g'], cmap='Purples')\n",
    "ps[0,1] = ax[0,1].pcolormesh(xx, zz, u['g'][0], cmap='RdBu_r')\n",
    "ps[1,1] = ax[1,1].pcolormesh(xx, zz, u['g'][1], cmap='RdBu_r')\n",
    "for i in range(2):\n",
    "    for j in range(2):\n",
    "        ax[i,j].contour(xx,zz,f['g'],[.05,.5,.95],colors='k')\n",
    "        plt.colorbar(ps[i,j], ax=ax[i,j])"
   ]
  },
  {
   "cell_type": "code",
   "execution_count": null,
   "id": "3f4d7c5e-16bd-496c-9ed8-a3fd1616c6ed",
   "metadata": {},
   "outputs": [],
   "source": [
    "start_time = time.time()\n",
    "try:\n",
    "    while solver.proceed:\n",
    "        if solver.iteration % 10 == 0:\n",
    "            log = [f'it {solver.iteration:d}',\n",
    "                   f'sim time {solver.sim_time:.2f}',\n",
    "                   f'wall time {(time.time() - start_time):.1f} s',\n",
    "                   f'max u {np.abs(u[\"g\"]).max():.3f}',\n",
    "                   f'max c {np.abs(C[\"g\"]).max():.3f}',\n",
    "                   f'heat {heat.evaluate()[\"g\"][0,0]:.3f}',\n",
    "                   f'salt {salt.evaluate()[\"g\"][0,0]:.3f}',\n",
    "                   ]\n",
    "            logger.info(', '.join(log))\n",
    "        solver.step(5e-3)\n",
    "except:\n",
    "    logger.error('Exception raised, triggering end of main loop.')\n",
    "    raise        "
   ]
  },
  {
   "cell_type": "code",
   "execution_count": null,
   "id": "76220ef7-8cfd-42a8-a870-36020e0af11c",
   "metadata": {},
   "outputs": [],
   "source": []
  }
 ],
 "metadata": {
  "kernelspec": {
   "display_name": "Python 3 (ipykernel)",
   "language": "python",
   "name": "python3"
  },
  "language_info": {
   "codemirror_mode": {
    "name": "ipython",
    "version": 3
   },
   "file_extension": ".py",
   "mimetype": "text/x-python",
   "name": "python",
   "nbconvert_exporter": "python",
   "pygments_lexer": "ipython3",
   "version": "3.10.4"
  }
 },
 "nbformat": 4,
 "nbformat_minor": 5
}
